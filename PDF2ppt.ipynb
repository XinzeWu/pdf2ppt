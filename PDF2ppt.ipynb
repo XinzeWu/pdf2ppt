{
 "cells": [
  {
   "cell_type": "markdown",
   "id": "ec3c9634",
   "metadata": {},
   "source": [
    "# 每页2个的情况，可以制作为PPT"
   ]
  },
  {
   "cell_type": "code",
   "execution_count": null,
   "id": "1c746b77",
   "metadata": {},
   "outputs": [],
   "source": [
    "# 加载库\n",
    "from pptx.util import Cm, Inches, Pt\n",
    "from pptx.enum.text import PP_ALIGN\n",
    "from pptx.dml.color import RGBColor\n",
    "import os\n",
    "from pptx import Presentation\n",
    "import cv2\n",
    "import matplotlib.pyplot as plt\n",
    "import fitz\n",
    "import re"
   ]
  },
  {
   "cell_type": "code",
   "execution_count": 21,
   "id": "58c71a50",
   "metadata": {},
   "outputs": [],
   "source": [
    "# 实例化 ppt 文档对象\n",
    "ppt = Presentation()\n",
    "# ＃ 设置幻灯片尺寸，16:9\n",
    "ppt.slide_width = Inches(16)\n",
    "ppt.slide_height = Inches(9)\n",
    "\n",
    "pdf = fitz.Document('svm.pdf')\n",
    "for i,pg in enumerate(range(0, len(pdf))):\n",
    "    page = pdf[pg]  # 获得每一页的对象\n",
    "    trans = fitz.Matrix(3.0, 3.0)#.preRotate(0)\n",
    "    pm = page.get_pixmap(matrix=trans, alpha=False)  # 获得每一页的流对象\n",
    "    pm.save('1.png')\n",
    "    #读取图片，写入图片\n",
    "    img = cv2.imread('1.png')\n",
    "    img = cv2.cvtColor(img, cv2.COLOR_BGR2RGB)\n",
    "    img1 = img[310:int(len(img)*0.44),180:-180]\n",
    "    cv2.imwrite('1.png',img1[:,:,::-1],[int(cv2.IMWRITE_PNG_COMPRESSION), 0])\n",
    "        \n",
    "    layout=ppt.slide_layouts[6] #空白布局\n",
    "    slide=ppt.slides.add_slide(layout)\n",
    "    #定义图片位置\n",
    "    left=Inches(0)\n",
    "    top=Inches(0)\n",
    "    #定义图片大小\n",
    "    width=Inches(16)\n",
    "    height=Inches(9)\n",
    "    img_path='1.png'\n",
    "    pic=slide.shapes.add_picture(img_path,left,top,width,height)\n",
    "    \n",
    "    img2 = img[int(len(img)*0.56):-310,180:-180]\n",
    "    cv2.imwrite('1.png',img2[:,:,::-1],[int(cv2.IMWRITE_PNG_COMPRESSION), 0])\n",
    "    layout=ppt.slide_layouts[6] #空白布局\n",
    "    slide=ppt.slides.add_slide(layout)\n",
    "    #定义图片位置\n",
    "    left=Inches(0)\n",
    "    top=Inches(0)\n",
    "    #定义图片大小\n",
    "    width=Inches(16)\n",
    "    height=Inches(9)\n",
    "    img_path='1.png'\n",
    "    pic=slide.shapes.add_picture(img_path,left,top,width,height)\n",
    "    \n",
    "ppt.save('res.pptx')\n",
    "    \n",
    "    "
   ]
  }
 ],
 "metadata": {
  "kernelspec": {
   "display_name": "wxz3.7",
   "language": "python",
   "name": "wxz3.7"
  },
  "language_info": {
   "codemirror_mode": {
    "name": "ipython",
    "version": 3
   },
   "file_extension": ".py",
   "mimetype": "text/x-python",
   "name": "python",
   "nbconvert_exporter": "python",
   "pygments_lexer": "ipython3",
   "version": "3.7.0"
  }
 },
 "nbformat": 4,
 "nbformat_minor": 5
}
